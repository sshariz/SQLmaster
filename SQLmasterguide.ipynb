{
 "cells": [
  {
   "cell_type": "code",
   "execution_count": 70,
   "id": "af95a8a0",
   "metadata": {},
   "outputs": [],
   "source": [
    "# imports\n",
    "import numpy as np\n",
    "import pandas as pd\n",
    "import matplotlib.pyplot as plt\n",
    "import seaborn as sns\n",
    "import plotly.express as px\n",
    "\n",
    "import sqlalchemy\n",
    "import sqlite3\n",
    "import os\n",
    "\n",
    "import warnings\n",
    "warnings.filterwarnings(\"ignore\", \"is_categorical_dtype\")\n",
    "warnings.filterwarnings(\"ignore\", \"use_inf_as_na\")"
   ]
  },
  {
   "cell_type": "code",
   "execution_count": 71,
   "id": "f5e11c6b",
   "metadata": {},
   "outputs": [],
   "source": [
    "os.getcwd()\n",
    "new_path = '/Users/sarasharifzadeh/anaconda3/APROJECTS/projectfiles'\n",
    "os.chdir(new_path)"
   ]
  },
  {
   "cell_type": "code",
   "execution_count": 72,
   "id": "453fd48d",
   "metadata": {},
   "outputs": [],
   "source": [
    "conn = sqlite3.connect('basic_examples.db')"
   ]
  },
  {
   "cell_type": "markdown",
   "id": "63880e22-cc8b-4dbf-be63-3466dcfe90b2",
   "metadata": {},
   "source": [
    "### StructuredQueryLanguage\n",
    "\n",
    "A declarative language (not imperative) in which you \"say **what** you want, **not how** to get it.\n",
    "\n",
    "* **Declarative:** I want a table with columns \"X\" & \"Y\" constructed from tables \"A\" & \"B\" where the values in \"Y\" are greater than 100\n",
    "* **Imperative:** For each record in table \"a\" find the corresponding record in table \"B\" then drop the records where \"Y\" is less than or equal to 100, then return the \"X\" & \"Y\" values\n",
    "\n",
    "<details>\n",
    "    <summary>[<b>Relational Terminology</b>]</summary>\n",
    "    \n",
    "* Database: set of relations (one or more tableS)\n",
    "* Relation (Table):\n",
    "    * Schema: descriptions of columns, their types, and constraints\n",
    "    * instance: data satisfying the schema\n",
    "* Attribute (Column)\n",
    "* Tuple (Record, Row)\n",
    "* Schema of database: set of schemas of its relations  \n",
    "\n",
    "</details>"
   ]
  },
  {
   "cell_type": "markdown",
   "id": "5b0415d0-47ac-4317-86ab-866c96d4276b",
   "metadata": {},
   "source": [
    "<details>\n",
    "<summary><h2><b>DOCUMENT OUTLINE</b></h2></summary>\n",
    "    \n",
    "1. Full Overview / Reference \n",
    "2. Creating & Populating Tables\n",
    "3. Querying into Tables\n",
    "    1. basic overview\n",
    "    2. examples \n",
    "5. Keys & Joins\n",
    "6. smthn\n",
    "    1. Basic Examples: Dish Table\n",
    "    2. Complex Example: db\n",
    "</details>\n"
   ]
  },
  {
   "cell_type": "markdown",
   "id": "08c144d4",
   "metadata": {},
   "source": [
    "### BASIC SQL Query Syntax"
   ]
  },
  {
   "cell_type": "markdown",
   "id": "4dc2cc23",
   "metadata": {},
   "source": [
    "\n",
    "```\n",
    "SELECT <column list>\n",
    "FROM <table>\n",
    "[WHERE <predicate>]\n",
    "    [AND <predicate>]\n",
    "[GROUP BY <column list>]\n",
    "[HAVING <predicate>]\n",
    "[ORDER BY <column list>]\n",
    "[LIMIT <number of rows>]\n",
    "[OFFSET <number of rows>]\n",
    "```"
   ]
  },
  {
   "cell_type": "code",
   "execution_count": 98,
   "id": "5c6994c3-41d4-49d3-9122-1191af0b5bbd",
   "metadata": {},
   "outputs": [],
   "source": [
    "# to-do:\n",
    "# include create\n",
    "# examples for having, order by, offset\n",
    "# deep review for groupby, join "
   ]
  },
  {
   "cell_type": "markdown",
   "id": "6883448b-c084-483f-8213-656efcfc82fb",
   "metadata": {},
   "source": [
    "## Creating & Populating Tables\n",
    "### **`SELECT`**\n",
    "Specifying what column(s) we would like to extract from a given table, or how to create them.\n",
    "\n",
    "* **`AS`** to rename as an alias\n",
    "```sql\n",
    "        SELECT engineSpeed AS speed\n",
    "```    \n",
    "* **`DISTINCT`** selects only unique values in a column, causing duplicate entries to be removed\n",
    "```sql\n",
    "        SELECT DISTINCT nameId \n",
    "``` \n",
    "* **`CAST(col AS dtype)`** casting col to a dtype: int, float, str\n",
    "```sql\n",
    "        SELECT genres, CAST(startYear AS int) AS year\n",
    "```\n",
    "* Common Numeric Functions: **`COUNT()`, `AVG()`, `SUM()`, `LENGTH()`,`MAX()`/ `MIN()`, `AVG()`, `POW()`, `LEAST()`, `MOD()`**,  to be used with groupby aggregation (or single condition)\n",
    "  \n",
    "```sql\n",
    "        SELECT genres, SUM((averageRating)*numVotes)/SUM(numVotes) AS avgGenreRating\n",
    "```\n",
    "\n",
    "* **`CASE`** or **`IF(condition, value_if_true, value_if_false)`** to select upon a condition... (if else)\n",
    "\n",
    "```sql\n",
    " CASE WHEN <cond> THEN <fill val>\n",
    "      WHEN <other cond> THEN <fill val>\n",
    "         ...\n",
    "      ELSE <yet another val>\n",
    "    END AS <col name> or END\n",
    "```\n",
    "\n",
    "**Example**: grade report with columns (name, grade, mark) but dont want names of students receiving a grade less than 8.\n",
    "\n",
    "```sql\n",
    "SELECT CASE WHEN grade < 8 THEN NULL              v.         SELECT IF(grade < 8, NULL, name), grade, marks\n",
    "          ELSE name\n",
    "       END,\n",
    "       grade, marks\n",
    "...\n",
    "```\n",
    "**Example**: If a movie was filmed before 1950, it is \"old\". Otherwise, if a movie was filmed before 2000, it is \"mid-aged\". Else, a movie is \"new\". \n",
    "```sql\n",
    "SELECT titleType, startYear,\n",
    "CASE WHEN startYear < 1950 THEN \"old\"\n",
    "     WHEN startYear < 2000 THEN \"mid-aged\"\n",
    "     ELSE \"new\"\n",
    "     END AS movie_age\n",
    "FROM Title\n",
    "LIMIT 5\n",
    "```\n",
    "\n",
    "|titleType\t|startYear\t|movie_age|\n",
    "|:-----|:----:|----:|\n",
    "|short|\t1902|\told|\n",
    "|movie|\t1915|\told|\n",
    "|movie|\t1978|\tmid-aged|\n",
    "|movie|\t2024|\tnew|"
   ]
  },
  {
   "cell_type": "markdown",
   "id": "048d361d-c4cd-4fab-818c-b5e175b8e318",
   "metadata": {},
   "source": [
    "## Filtering Output\n",
    "\n",
    "### Filtering Rows\n",
    "### **`WHERE`**\n",
    "selecting only some rows of a table, filtering rows on a condition. \n",
    "\n",
    "\n",
    "* Conditionals: **`AND`,`OR`, `NOT`**\n",
    "    * Comparison Operators: =, <, <, >=, <=, <>\n",
    "    * Arithmetic: +, -, *, /, %\n",
    "```sql\n",
    "SELECT time, title, genre FROM movies\n",
    "WHERE time > 2000 AND genre NOT = \"Drama\"\n",
    "```\n",
    "\n",
    "* **`IN`, `IS`, `IS NOT`, `NULL`**\n",
    "```sql\n",
    "SELECT name FROM city                                              SELECT name FROM city \n",
    "WHERE name IN (\"New York\", \"Los Angeles\", \"San Francisco\")         WHERE time IS NOT NULL \n",
    "...\n",
    "```\n",
    "\n",
    "* **`REGEXP`**\n",
    "```sql\n",
    "SELECT DISTINCT city From station \n",
    "WHERE city REGEXP '[aeiou]$' \n",
    "    AND city REGEXP '^[aeiou]';\n",
    "```\n",
    "\n",
    "* **`LIKE`, `EXISTS`**\n",
    "\n",
    "```sql\n",
    "SELECT titleType, primaryTitle                                     SELECT primaryTitle\n",
    "FROM Title                                                         FROM Title\n",
    "WHERE primaryTitle LIKE \"%Star Wars%\"                v.            WHERE primaryTitle LIKE \"Star Wars\" \n",
    "...\n",
    "```\n",
    "\n",
    "```sql\n",
    "SELECT titleType, primaryTitle                                     SELECT primaryTitle\n",
    "FROM Title                                                         FROM Title\n",
    "WHERE primaryTitle LIKE \"%Star Wars%\"                v.            WHERE primaryTitle LIKE \"Star Wars\" \n",
    "...\n",
    "```\n",
    "\n",
    "**`%`** is a wildcard operator, it looks for any character any number of times. Without it, only exact matches return\n",
    "|titleType  |primaryTitle |\n",
    "|:-----|----:|\n",
    "|movie |Star Wars: Episode IV - A New Hope |\n",
    "|movie |Star Wars: Episode V - The Empire Strikes Back |\n",
    "\n",
    "\n",
    "```sql\n",
    "SELECT name FROM city\n",
    "WHERE time IS NOT NULL \n",
    "...\n",
    "```\n",
    "\n",
    "* Subqueries:\n",
    "\n",
    "```sql\n",
    "SELECT <cols>\n",
    "FROM <table>\n",
    "    [WHERE <predicate>]  {\n",
    "       [SELECT <col> FROM <table>]\n",
    "       [WHERE <predicate>]\n",
    "          [AND]\n",
    "    }\n",
    "...\n",
    "```"
   ]
  },
  {
   "cell_type": "markdown",
   "id": "01569092-18c4-4315-872c-6531cf3011a8",
   "metadata": {},
   "source": [
    "### Filtering Groups\n",
    "**The difference between WHERE & HAVING is:** filtering rows v. filtering groups. \n",
    "\n",
    "### **`HAVING`**\n",
    "Filters groups by applying some condition across all rows in each group. We interpret it as a way to keep only the groups HAVING some condition.  \n",
    "\n",
    "* `WHERE` filters rows, precedes having\n",
    "* `HAVING` filters groups\n",
    "\n",
    "**Ouptut comparison below:** In the first, the code groups the dishes by type, and only keeps those groups where the max cost is less than 8. In the second, the code filters for rows where the cost is less than 8, then does the grouping. This results in `WHERE` returning more rows than `HAVING` in this case because it includes as additional entree.\n",
    "\n",
    "\n",
    "```sql\n",
    "SELECT type, COUNT(*)                                               SELECT type, COUNT(*)\n",
    "FROM Dish                                                           FROM Dish\n",
    "GROUP BY type                            v.                         WHERE cost < 8 \n",
    "HAVING MAX(cost) < 8;                                               GROUP BY type;\n",
    "```\n"
   ]
  },
  {
   "cell_type": "markdown",
   "id": "b9a54b27-fe7d-4e79-a910-4113cfebf1c3",
   "metadata": {},
   "source": [
    "### Sorting Output\n",
    "### **`ORDER BY`**\n",
    "**`ORDER BY`**: default ASC, change to `DESC`\n",
    "* Ordering by two columns at once will sort the table by the first listed column & use values in 2nd to break the tie.\n",
    "\n",
    "**Example**: order by character length first, then break ties by city name, DESC included in both! \n",
    "```sql\n",
    "SELECT city, LENGTH(city)\n",
    "FROM station\n",
    "ORDER BY LENGTH(city) DESC, city DESC\n",
    "LIMIT 1;\n",
    "```\n",
    "\n",
    "**`LIMIT`**: restrict output to the specified number of rows\n",
    "\n",
    "**`OFFSET`**: indicates the index at which LIMIT should start at. "
   ]
  },
  {
   "cell_type": "code",
   "execution_count": null,
   "id": "ee6ee487-ba6c-4f9c-bf85-bb77655d4cbd",
   "metadata": {},
   "outputs": [],
   "source": []
  },
  {
   "cell_type": "code",
   "execution_count": null,
   "id": "a9743329-9a67-4d67-8ed0-0909b89c070b",
   "metadata": {},
   "outputs": [],
   "source": []
  },
  {
   "cell_type": "markdown",
   "id": "292759ab-c597-4a6b-8ba8-df3d283c743d",
   "metadata": {},
   "source": [
    "#### **RANDOM USEFUL QUERIES I'VE SEEN**\n",
    "\n",
    "1. **Example**: given **a range** of grades, **assign** a students mark to the grade\n",
    "\n",
    "```sql\n",
    "SELECT name, grade, mark\n",
    "FROM students JOIN grades\n",
    "WHERE mark BETWEEN min_mark AND max_mark\n",
    "```\n",
    "2. **Example**: Query the list of CITY names **ending** then **starting with vowels** (i.e., a, e, i, o, or u) from STATION. unique.\n",
    "\n",
    "```sql\n",
    "SELECT DISTINCT city From station\n",
    "WHERE city REGEXP '[aeiou]$';\n",
    "```\n",
    "\n",
    "```sql\n",
    "SELECT DISTINCT city FROM station\n",
    " WHERE city REGEXP '^[aeiou]';\n",
    "```\n",
    "\n",
    "3. **Example**: all cities where id **numbers are even**\n",
    "   \n",
    "```sql\n",
    "SELECT DISTINCT city FROM station \n",
    "WHERE id%2=0  (or)  WHERE  MOD(id,2) = 0\n",
    "```\n",
    "\n",
    "4. **Example**: **order students by the last 3 characters** of their name, if two or more have same last 3 ending, break tie with id.\n",
    "```sql\n",
    "SELECT name FROM students\n",
    "ORDER BY RIGHT(name, 3), id; \n",
    "```\n",
    "\n",
    "\n",
    "5. **Example**: query the names of all the continents & respective **average city populations rounded down to the nearest integer**.\n",
    "\n",
    "```sql\n",
    "SELECT country.continent, FLOOR(AVG(city.population))\n",
    "FROM city \n",
    "INNER JOIN country ON city.countrycode = country.code\n",
    "GROUP BY country.continent;\n",
    "```\n"
   ]
  },
  {
   "cell_type": "code",
   "execution_count": null,
   "id": "7e2353d3-3acd-45cb-ab8c-ef7bcf9b3220",
   "metadata": {},
   "outputs": [],
   "source": []
  },
  {
   "cell_type": "code",
   "execution_count": null,
   "id": "fdc2847f-1085-4d46-a731-775aeb6cacd8",
   "metadata": {},
   "outputs": [],
   "source": []
  },
  {
   "cell_type": "markdown",
   "id": "b39796f4-d4b3-449e-af4b-858a98397fef",
   "metadata": {},
   "source": [
    "# BELOW IS UNCLEANED UNORGANIZED"
   ]
  },
  {
   "cell_type": "code",
   "execution_count": 86,
   "id": "daa69b59",
   "metadata": {},
   "outputs": [
    {
     "name": "stdout",
     "output_type": "stream",
     "text": [
      "The sql extension is already loaded. To reload it, use:\n",
      "  %reload_ext sql\n"
     ]
    }
   ],
   "source": [
    "#load the module\n",
    "%load_ext sql"
   ]
  },
  {
   "cell_type": "markdown",
   "id": "3c8691c7-24bf-4007-9788-5936f0d948f7",
   "metadata": {},
   "source": [
    "### Very Basic SQL learning: A small table of dishes"
   ]
  },
  {
   "cell_type": "markdown",
   "id": "aa5da9e9-f7cf-4894-940c-37cc3cee1b86",
   "metadata": {},
   "source": [
    "Using this data from Berkeley's Data100 course."
   ]
  },
  {
   "cell_type": "code",
   "execution_count": 87,
   "id": "ef6bf3b7",
   "metadata": {},
   "outputs": [],
   "source": [
    "%sql sqlite:///basic_examples.db"
   ]
  },
  {
   "cell_type": "code",
   "execution_count": 88,
   "id": "88400e85-87ec-48c1-826e-03de342788c7",
   "metadata": {},
   "outputs": [
    {
     "name": "stdout",
     "output_type": "stream",
     "text": [
      " * sqlite:///basic_examples.db\n",
      "   sqlite:///imdbmini.db\n",
      "Done.\n"
     ]
    },
    {
     "data": {
      "text/html": [
       "<table>\n",
       "    <thead>\n",
       "        <tr>\n",
       "            <th>type</th>\n",
       "            <th>name</th>\n",
       "            <th>tbl_name</th>\n",
       "            <th>rootpage</th>\n",
       "            <th>sql</th>\n",
       "        </tr>\n",
       "    </thead>\n",
       "    <tbody>\n",
       "        <tr>\n",
       "            <td>table</td>\n",
       "            <td>sqlite_sequence</td>\n",
       "            <td>sqlite_sequence</td>\n",
       "            <td>7</td>\n",
       "            <td>CREATE TABLE sqlite_sequence(name,seq)</td>\n",
       "        </tr>\n",
       "        <tr>\n",
       "            <td>table</td>\n",
       "            <td>Dragon</td>\n",
       "            <td>Dragon</td>\n",
       "            <td>2</td>\n",
       "            <td>CREATE TABLE Dragon (<br>    name TEXT PRIMARY KEY,<br>    year INTEGER CHECK (year &gt;= 2000),<br>    cute INTEGER<br>)</td>\n",
       "        </tr>\n",
       "        <tr>\n",
       "            <td>table</td>\n",
       "            <td>Dish</td>\n",
       "            <td>Dish</td>\n",
       "            <td>4</td>\n",
       "            <td>CREATE TABLE Dish (<br>    name TEXT PRIMARY KEY,<br>    type TEXT,<br>    cost INTEGER CHECK (cost &gt;= 0)<br>)</td>\n",
       "        </tr>\n",
       "        <tr>\n",
       "            <td>table</td>\n",
       "            <td>Scene</td>\n",
       "            <td>Scene</td>\n",
       "            <td>6</td>\n",
       "            <td>CREATE TABLE Scene (<br>    id INTEGER PRIMARY KEY AUTOINCREMENT,<br>    biome TEXT NOT NULL,<br>    city TEXT NOT NULL,<br>    visitors INTEGER CHECK (visitors &gt;= 0),<br>    created_at DATETIME DEFAULT (DATETIME(&#x27;now&#x27;))<br>)</td>\n",
       "        </tr>\n",
       "    </tbody>\n",
       "</table>"
      ],
      "text/plain": [
       "[('table', 'sqlite_sequence', 'sqlite_sequence', 7, 'CREATE TABLE sqlite_sequence(name,seq)'),\n",
       " ('table', 'Dragon', 'Dragon', 2, 'CREATE TABLE Dragon (\\n    name TEXT PRIMARY KEY,\\n    year INTEGER CHECK (year >= 2000),\\n    cute INTEGER\\n)'),\n",
       " ('table', 'Dish', 'Dish', 4, 'CREATE TABLE Dish (\\n    name TEXT PRIMARY KEY,\\n    type TEXT,\\n    cost INTEGER CHECK (cost >= 0)\\n)'),\n",
       " ('table', 'Scene', 'Scene', 6, \"CREATE TABLE Scene (\\n    id INTEGER PRIMARY KEY AUTOINCREMENT,\\n    biome TEXT NOT NULL,\\n    city TEXT NOT NULL,\\n    visitors INTEGER CHECK (visitors >= 0),\\n    created_at DATETIME DEFAULT (DATETIME('now'))\\n)\")]"
      ]
     },
     "execution_count": 88,
     "metadata": {},
     "output_type": "execute_result"
    }
   ],
   "source": [
    "%%sql \n",
    "SELECT * FROM sqlite_master WHERE type='table';"
   ]
  },
  {
   "cell_type": "markdown",
   "id": "d6bb5eba-5d2d-45e4-978a-fa1f4a9726f0",
   "metadata": {},
   "source": [
    "##### Previewing the Dish Table"
   ]
  },
  {
   "cell_type": "code",
   "execution_count": 89,
   "id": "1a3de4c3-85bc-426e-a9d6-3d4d4bf24d8c",
   "metadata": {},
   "outputs": [
    {
     "name": "stdout",
     "output_type": "stream",
     "text": [
      " * sqlite:///basic_examples.db\n",
      "   sqlite:///imdbmini.db\n",
      "Done.\n"
     ]
    },
    {
     "data": {
      "text/html": [
       "<table>\n",
       "    <thead>\n",
       "        <tr>\n",
       "            <th>name</th>\n",
       "            <th>type</th>\n",
       "            <th>cost</th>\n",
       "        </tr>\n",
       "    </thead>\n",
       "    <tbody>\n",
       "        <tr>\n",
       "            <td>ravioli</td>\n",
       "            <td>entree</td>\n",
       "            <td>10</td>\n",
       "        </tr>\n",
       "        <tr>\n",
       "            <td>ramen</td>\n",
       "            <td>entree</td>\n",
       "            <td>13</td>\n",
       "        </tr>\n",
       "        <tr>\n",
       "            <td>taco</td>\n",
       "            <td>entree</td>\n",
       "            <td>7</td>\n",
       "        </tr>\n",
       "        <tr>\n",
       "            <td>edamame</td>\n",
       "            <td>appetizer</td>\n",
       "            <td>4</td>\n",
       "        </tr>\n",
       "        <tr>\n",
       "            <td>fries</td>\n",
       "            <td>appetizer</td>\n",
       "            <td>4</td>\n",
       "        </tr>\n",
       "        <tr>\n",
       "            <td>potsticker</td>\n",
       "            <td>appetizer</td>\n",
       "            <td>4</td>\n",
       "        </tr>\n",
       "        <tr>\n",
       "            <td>ice cream</td>\n",
       "            <td>dessert</td>\n",
       "            <td>5</td>\n",
       "        </tr>\n",
       "    </tbody>\n",
       "</table>"
      ],
      "text/plain": [
       "[('ravioli', 'entree', 10),\n",
       " ('ramen', 'entree', 13),\n",
       " ('taco', 'entree', 7),\n",
       " ('edamame', 'appetizer', 4),\n",
       " ('fries', 'appetizer', 4),\n",
       " ('potsticker', 'appetizer', 4),\n",
       " ('ice cream', 'dessert', 5)]"
      ]
     },
     "execution_count": 89,
     "metadata": {},
     "output_type": "execute_result"
    }
   ],
   "source": [
    "%%sql\n",
    "SELECT * FROM Dish;"
   ]
  },
  {
   "cell_type": "code",
   "execution_count": 90,
   "id": "432fb953-b5ca-4f4a-b1cb-e1b4297c0fc9",
   "metadata": {},
   "outputs": [
    {
     "name": "stdout",
     "output_type": "stream",
     "text": [
      " * sqlite:///basic_examples.db\n",
      "   sqlite:///imdbmini.db\n",
      "Done.\n"
     ]
    },
    {
     "data": {
      "text/html": [
       "<table>\n",
       "    <thead>\n",
       "        <tr>\n",
       "            <th>mealType</th>\n",
       "        </tr>\n",
       "    </thead>\n",
       "    <tbody>\n",
       "        <tr>\n",
       "            <td>entree</td>\n",
       "        </tr>\n",
       "        <tr>\n",
       "            <td>appetizer</td>\n",
       "        </tr>\n",
       "        <tr>\n",
       "            <td>dessert</td>\n",
       "        </tr>\n",
       "    </tbody>\n",
       "</table>"
      ],
      "text/plain": [
       "[('entree',), ('appetizer',), ('dessert',)]"
      ]
     },
     "execution_count": 90,
     "metadata": {},
     "output_type": "execute_result"
    }
   ],
   "source": [
    "%%sql\n",
    "SELECT DISTINCT(type) AS mealType FROM Dish;"
   ]
  },
  {
   "cell_type": "code",
   "execution_count": 91,
   "id": "b21acac6-8cb9-40bf-b753-a0145419c0d0",
   "metadata": {
    "scrolled": true
   },
   "outputs": [
    {
     "name": "stdout",
     "output_type": "stream",
     "text": [
      " * sqlite:///basic_examples.db\n",
      "   sqlite:///imdbmini.db\n",
      "Done.\n"
     ]
    },
    {
     "data": {
      "text/html": [
       "<table>\n",
       "    <thead>\n",
       "        <tr>\n",
       "            <th>name</th>\n",
       "            <th>type</th>\n",
       "            <th>expensiveMeal</th>\n",
       "        </tr>\n",
       "    </thead>\n",
       "    <tbody>\n",
       "        <tr>\n",
       "            <td>ramen</td>\n",
       "            <td>entree</td>\n",
       "            <td>13</td>\n",
       "        </tr>\n",
       "    </tbody>\n",
       "</table>"
      ],
      "text/plain": [
       "[('ramen', 'entree', 13)]"
      ]
     },
     "execution_count": 91,
     "metadata": {},
     "output_type": "execute_result"
    }
   ],
   "source": [
    "%%sql\n",
    "SELECT name, type, MAX(cost) AS expensiveMeal\n",
    "FROM Dish;"
   ]
  },
  {
   "cell_type": "markdown",
   "id": "7cc27894-e388-4183-be0b-0713af216806",
   "metadata": {},
   "source": [
    "**`WHERE`**\n",
    "selecting only some rows of a talbe, filtered on a condition. \n",
    "\n",
    "**The difference between WHERE & HAVING is:** filtering rows v. filtering groups. \"WHERE\" is used to filter rows.\n",
    "\n",
    "* Conditionals: `AND`,`OR`, `NOT`, `IN`, `IS`, `IS NOT`, `NULL`, `LIKE`, `EXISTS`\n",
    "* Comparison Operators: =, <, <, >=, <=, <>\n",
    "* Arithmetic: +, -, *, /, %\n",
    "* Subquery:\n",
    "\n",
    "```\n",
    "SELECT <cols>\n",
    "FROM <table>\n",
    "    [WHERE <predicate>] {\n",
    "    [SELECT <col> FROM <table>]\n",
    "    [WHERE <predicate>]\n",
    "        [AND]}\n",
    "```"
   ]
  },
  {
   "cell_type": "code",
   "execution_count": 60,
   "id": "7737978a-2aa5-4e86-aa7d-bbd032ae7db7",
   "metadata": {},
   "outputs": [
    {
     "name": "stdout",
     "output_type": "stream",
     "text": [
      "   sqlite:///basic_examples.db\n",
      " * sqlite:///imdbmini.db\n",
      "(sqlite3.OperationalError) no such table: Dish\n",
      "[SQL: SELECT *\n",
      "FROM Dish\n",
      "WHERE type IN (\"appetizer\");]\n",
      "(Background on this error at: https://sqlalche.me/e/20/e3q8)\n"
     ]
    }
   ],
   "source": [
    "%%sql\n",
    "SELECT *\n",
    "FROM Dish\n",
    "WHERE type IN (\"appetizer\");"
   ]
  },
  {
   "cell_type": "code",
   "execution_count": 61,
   "id": "77a62943-7813-4a1d-bbbd-da898ecbc6fc",
   "metadata": {},
   "outputs": [
    {
     "name": "stdout",
     "output_type": "stream",
     "text": [
      "   sqlite:///basic_examples.db\n",
      " * sqlite:///imdbmini.db\n",
      "(sqlite3.OperationalError) no such table: Dish\n",
      "[SQL: SELECT * FROM Dish\n",
      "WHERE type = 'entree' \n",
      "AND cost <= 10;]\n",
      "(Background on this error at: https://sqlalche.me/e/20/e3q8)\n"
     ]
    }
   ],
   "source": [
    "%%sql \n",
    "SELECT * FROM Dish\n",
    "WHERE type = 'entree' \n",
    "AND cost <= 10;"
   ]
  },
  {
   "cell_type": "code",
   "execution_count": 92,
   "id": "f42d125e-c59a-41ec-935b-020aafb6c7a3",
   "metadata": {},
   "outputs": [
    {
     "name": "stdout",
     "output_type": "stream",
     "text": [
      " * sqlite:///basic_examples.db\n",
      "   sqlite:///imdbmini.db\n",
      "Done.\n"
     ]
    },
    {
     "data": {
      "text/html": [
       "<table>\n",
       "    <thead>\n",
       "        <tr>\n",
       "            <th>name</th>\n",
       "            <th>type</th>\n",
       "            <th>cost</th>\n",
       "        </tr>\n",
       "    </thead>\n",
       "    <tbody>\n",
       "        <tr>\n",
       "            <td>ramen</td>\n",
       "            <td>entree</td>\n",
       "            <td>13</td>\n",
       "        </tr>\n",
       "        <tr>\n",
       "            <td>taco</td>\n",
       "            <td>entree</td>\n",
       "            <td>7</td>\n",
       "        </tr>\n",
       "    </tbody>\n",
       "</table>"
      ],
      "text/plain": [
       "[('ramen', 'entree', 13), ('taco', 'entree', 7)]"
      ]
     },
     "execution_count": 92,
     "metadata": {},
     "output_type": "execute_result"
    }
   ],
   "source": [
    "%%sql\n",
    "SELECT * FROM Dish\n",
    "LIMIT 2\n",
    "OFFSET 1;"
   ]
  },
  {
   "cell_type": "code",
   "execution_count": 93,
   "id": "50d47afe-ac1b-474b-8afc-999b4c86a40e",
   "metadata": {},
   "outputs": [
    {
     "name": "stdout",
     "output_type": "stream",
     "text": [
      " * sqlite:///basic_examples.db\n",
      "   sqlite:///imdbmini.db\n",
      "Done.\n"
     ]
    },
    {
     "data": {
      "text/html": [
       "<table>\n",
       "    <thead>\n",
       "        <tr>\n",
       "            <th>name</th>\n",
       "            <th>type</th>\n",
       "            <th>cost</th>\n",
       "        </tr>\n",
       "    </thead>\n",
       "    <tbody>\n",
       "        <tr>\n",
       "            <td>edamame</td>\n",
       "            <td>appetizer</td>\n",
       "            <td>4</td>\n",
       "        </tr>\n",
       "        <tr>\n",
       "            <td>fries</td>\n",
       "            <td>appetizer</td>\n",
       "            <td>4</td>\n",
       "        </tr>\n",
       "        <tr>\n",
       "            <td>potsticker</td>\n",
       "            <td>appetizer</td>\n",
       "            <td>4</td>\n",
       "        </tr>\n",
       "        <tr>\n",
       "            <td>ice cream</td>\n",
       "            <td>dessert</td>\n",
       "            <td>5</td>\n",
       "        </tr>\n",
       "        <tr>\n",
       "            <td>taco</td>\n",
       "            <td>entree</td>\n",
       "            <td>7</td>\n",
       "        </tr>\n",
       "        <tr>\n",
       "            <td>ravioli</td>\n",
       "            <td>entree</td>\n",
       "            <td>10</td>\n",
       "        </tr>\n",
       "        <tr>\n",
       "            <td>ramen</td>\n",
       "            <td>entree</td>\n",
       "            <td>13</td>\n",
       "        </tr>\n",
       "    </tbody>\n",
       "</table>"
      ],
      "text/plain": [
       "[('edamame', 'appetizer', 4),\n",
       " ('fries', 'appetizer', 4),\n",
       " ('potsticker', 'appetizer', 4),\n",
       " ('ice cream', 'dessert', 5),\n",
       " ('taco', 'entree', 7),\n",
       " ('ravioli', 'entree', 10),\n",
       " ('ramen', 'entree', 13)]"
      ]
     },
     "execution_count": 93,
     "metadata": {},
     "output_type": "execute_result"
    }
   ],
   "source": [
    "%%sql\n",
    "SELECT * FROM Dish\n",
    "ORDER BY cost, type"
   ]
  },
  {
   "cell_type": "code",
   "execution_count": 95,
   "id": "ff09d2e7-2d61-4021-b3bc-ec0425802412",
   "metadata": {},
   "outputs": [
    {
     "name": "stdout",
     "output_type": "stream",
     "text": [
      " * sqlite:///basic_examples.db\n",
      "   sqlite:///imdbmini.db\n",
      "Done.\n"
     ]
    },
    {
     "data": {
      "text/html": [
       "<table>\n",
       "    <thead>\n",
       "        <tr>\n",
       "            <th>type</th>\n",
       "            <th>COUNT(*)</th>\n",
       "        </tr>\n",
       "    </thead>\n",
       "    <tbody>\n",
       "        <tr>\n",
       "            <td>appetizer</td>\n",
       "            <td>3</td>\n",
       "        </tr>\n",
       "        <tr>\n",
       "            <td>dessert</td>\n",
       "            <td>1</td>\n",
       "        </tr>\n",
       "    </tbody>\n",
       "</table>"
      ],
      "text/plain": [
       "[('appetizer', 3), ('dessert', 1)]"
      ]
     },
     "execution_count": 95,
     "metadata": {},
     "output_type": "execute_result"
    }
   ],
   "source": [
    "%%sql\n",
    "SELECT type, COUNT(*)\n",
    "FROM Dish\n",
    "GROUP BY type\n",
    "HAVING MAX(cost) < 8;"
   ]
  },
  {
   "cell_type": "code",
   "execution_count": 103,
   "id": "999e22ef-ab85-4969-be83-c22b783aa81f",
   "metadata": {},
   "outputs": [
    {
     "name": "stdout",
     "output_type": "stream",
     "text": [
      " * sqlite:///basic_examples.db\n",
      "   sqlite:///imdbmini.db\n",
      "Done.\n"
     ]
    },
    {
     "data": {
      "text/html": [
       "<table>\n",
       "    <thead>\n",
       "        <tr>\n",
       "            <th>type</th>\n",
       "            <th>COUNT(*)</th>\n",
       "        </tr>\n",
       "    </thead>\n",
       "    <tbody>\n",
       "        <tr>\n",
       "            <td>appetizer</td>\n",
       "            <td>3</td>\n",
       "        </tr>\n",
       "        <tr>\n",
       "            <td>dessert</td>\n",
       "            <td>1</td>\n",
       "        </tr>\n",
       "        <tr>\n",
       "            <td>entree</td>\n",
       "            <td>1</td>\n",
       "        </tr>\n",
       "    </tbody>\n",
       "</table>"
      ],
      "text/plain": [
       "[('appetizer', 3), ('dessert', 1), ('entree', 1)]"
      ]
     },
     "execution_count": 103,
     "metadata": {},
     "output_type": "execute_result"
    }
   ],
   "source": [
    "%%sql\n",
    "SELECT type, COUNT(*)\n",
    "FROM Dish\n",
    "WHERE cost < 8\n",
    "GROUP BY type;"
   ]
  },
  {
   "cell_type": "markdown",
   "id": "71f7d707-a82f-4a19-97ae-f4327895cec5",
   "metadata": {},
   "source": [
    "#### Matching Text "
   ]
  },
  {
   "cell_type": "code",
   "execution_count": 104,
   "id": "61868f8d-b101-4123-865c-fbd6010e3313",
   "metadata": {},
   "outputs": [],
   "source": [
    "%sql sqlite:///imdbmini.db"
   ]
  },
  {
   "cell_type": "code",
   "execution_count": 105,
   "id": "7c9b7c8c-746e-4f27-895f-45f8998ad90d",
   "metadata": {},
   "outputs": [
    {
     "name": "stdout",
     "output_type": "stream",
     "text": [
      "   sqlite:///basic_examples.db\n",
      " * sqlite:///imdbmini.db\n",
      "Done.\n"
     ]
    },
    {
     "data": {
      "text/html": [
       "<table>\n",
       "    <thead>\n",
       "        <tr>\n",
       "            <th>titleType</th>\n",
       "            <th>primaryTitle</th>\n",
       "        </tr>\n",
       "    </thead>\n",
       "    <tbody>\n",
       "        <tr>\n",
       "            <td>movie</td>\n",
       "            <td>Star Wars: Episode IV - A New Hope</td>\n",
       "        </tr>\n",
       "        <tr>\n",
       "            <td>movie</td>\n",
       "            <td>Star Wars: Episode V - The Empire Strikes Back</td>\n",
       "        </tr>\n",
       "        <tr>\n",
       "            <td>movie</td>\n",
       "            <td>Star Wars: Episode VI - Return of the Jedi</td>\n",
       "        </tr>\n",
       "        <tr>\n",
       "            <td>movie</td>\n",
       "            <td>Star Wars: Episode I - The Phantom Menace</td>\n",
       "        </tr>\n",
       "        <tr>\n",
       "            <td>movie</td>\n",
       "            <td>Star Wars: Episode II - Attack of the Clones</td>\n",
       "        </tr>\n",
       "        <tr>\n",
       "            <td>movie</td>\n",
       "            <td>Star Wars: Episode III - Revenge of the Sith</td>\n",
       "        </tr>\n",
       "        <tr>\n",
       "            <td>tvSeries</td>\n",
       "            <td>Star Wars: Clone Wars</td>\n",
       "        </tr>\n",
       "        <tr>\n",
       "            <td>tvSeries</td>\n",
       "            <td>Star Wars: The Clone Wars</td>\n",
       "        </tr>\n",
       "        <tr>\n",
       "            <td>movie</td>\n",
       "            <td>Star Wars: The Clone Wars</td>\n",
       "        </tr>\n",
       "        <tr>\n",
       "            <td>movie</td>\n",
       "            <td>Star Wars: Episode VII - The Force Awakens</td>\n",
       "        </tr>\n",
       "    </tbody>\n",
       "</table>"
      ],
      "text/plain": [
       "[('movie', 'Star Wars: Episode IV - A New Hope'),\n",
       " ('movie', 'Star Wars: Episode V - The Empire Strikes Back'),\n",
       " ('movie', 'Star Wars: Episode VI - Return of the Jedi'),\n",
       " ('movie', 'Star Wars: Episode I - The Phantom Menace'),\n",
       " ('movie', 'Star Wars: Episode II - Attack of the Clones'),\n",
       " ('movie', 'Star Wars: Episode III - Revenge of the Sith'),\n",
       " ('tvSeries', 'Star Wars: Clone Wars'),\n",
       " ('tvSeries', 'Star Wars: The Clone Wars'),\n",
       " ('movie', 'Star Wars: The Clone Wars'),\n",
       " ('movie', 'Star Wars: Episode VII - The Force Awakens')]"
      ]
     },
     "execution_count": 105,
     "metadata": {},
     "output_type": "execute_result"
    }
   ],
   "source": [
    "%%sql\n",
    "SELECT titleType, primaryTitle\n",
    "FROM Title\n",
    "WHERE primaryTitle LIKE \"%Star Wars%\"\n",
    "LIMIT 10;"
   ]
  },
  {
   "cell_type": "markdown",
   "id": "23547c07-5e2c-4d41-9903-3b038b9c5fa9",
   "metadata": {},
   "source": [
    "#### New Columns with Conditional Statements"
   ]
  },
  {
   "cell_type": "code",
   "execution_count": 106,
   "id": "e4055632-4dfa-48b1-8e22-e9bf757d363a",
   "metadata": {},
   "outputs": [
    {
     "name": "stdout",
     "output_type": "stream",
     "text": [
      "   sqlite:///basic_examples.db\n",
      " * sqlite:///imdbmini.db\n",
      "Done.\n"
     ]
    },
    {
     "data": {
      "text/html": [
       "<table>\n",
       "    <thead>\n",
       "        <tr>\n",
       "            <th>titleType</th>\n",
       "            <th>startYear</th>\n",
       "            <th>movie_age</th>\n",
       "        </tr>\n",
       "    </thead>\n",
       "    <tbody>\n",
       "        <tr>\n",
       "            <td>short</td>\n",
       "            <td>1902</td>\n",
       "            <td>old</td>\n",
       "        </tr>\n",
       "        <tr>\n",
       "            <td>movie</td>\n",
       "            <td>1915</td>\n",
       "            <td>old</td>\n",
       "        </tr>\n",
       "        <tr>\n",
       "            <td>movie</td>\n",
       "            <td>1920</td>\n",
       "            <td>old</td>\n",
       "        </tr>\n",
       "        <tr>\n",
       "            <td>movie</td>\n",
       "            <td>1921</td>\n",
       "            <td>old</td>\n",
       "        </tr>\n",
       "        <tr>\n",
       "            <td>movie</td>\n",
       "            <td>1922</td>\n",
       "            <td>old</td>\n",
       "        </tr>\n",
       "    </tbody>\n",
       "</table>"
      ],
      "text/plain": [
       "[('short', '1902', 'old'),\n",
       " ('movie', '1915', 'old'),\n",
       " ('movie', '1920', 'old'),\n",
       " ('movie', '1921', 'old'),\n",
       " ('movie', '1922', 'old')]"
      ]
     },
     "execution_count": 106,
     "metadata": {},
     "output_type": "execute_result"
    }
   ],
   "source": [
    "%%sql\n",
    "/* If a movie was filmed before 1950, it is \"old\"\n",
    "Otherwise, if a movie was filmed before 2000, it is \"mid-aged\"\n",
    "Else, a movie is \"new\" */\n",
    "\n",
    "SELECT titleType, startYear,\n",
    "CASE WHEN startYear < 1950 THEN \"old\"\n",
    "     WHEN startYear < 2000 THEN \"mid-aged\"\n",
    "     ELSE \"new\"\n",
    "     END AS movie_age\n",
    "FROM Title\n",
    "LIMIT 5;"
   ]
  },
  {
   "cell_type": "code",
   "execution_count": null,
   "id": "bb611b77-eb76-40f4-8b87-bc9fb500d0aa",
   "metadata": {},
   "outputs": [],
   "source": []
  },
  {
   "cell_type": "code",
   "execution_count": null,
   "id": "23f180d9-af27-4cf0-a9d6-4474f851741f",
   "metadata": {},
   "outputs": [],
   "source": []
  }
 ],
 "metadata": {
  "kernelspec": {
   "display_name": "Python 3 (ipykernel)",
   "language": "python",
   "name": "python3"
  },
  "language_info": {
   "codemirror_mode": {
    "name": "ipython",
    "version": 3
   },
   "file_extension": ".py",
   "mimetype": "text/x-python",
   "name": "python",
   "nbconvert_exporter": "python",
   "pygments_lexer": "ipython3",
   "version": "3.11.5"
  }
 },
 "nbformat": 4,
 "nbformat_minor": 5
}
